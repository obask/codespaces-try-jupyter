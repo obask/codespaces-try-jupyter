{
 "cells": [
  {
   "cell_type": "code",
   "execution_count": 2,
   "id": "14755963-d8cc-4d69-b70b-d67e42d014d4",
   "metadata": {},
   "outputs": [],
   "source": [
    "from enum import Enum, auto\n",
    "class Planet(Enum):\n",
    "    ASTEROID = auto()\n",
    "    COMET = auto()\n",
    "    TRULY_EMPTY = auto()\n",
    "    DWARF = auto()\n",
    "    GAS_CLOUD = auto()\n",
    "    PLANET_X = auto()\n",
    "\n",
    "SIZE = 12"
   ]
  },
  {
   "cell_type": "code",
   "execution_count": 3,
   "id": "5fa64f16",
   "metadata": {},
   "outputs": [],
   "source": [
    "from dataclasses import dataclass, field\n",
    "\n",
    "\n",
    "def difference(start, end):\n",
    "    return end - start if end > start else start + SIZE - end\n",
    "\n",
    "\n",
    "def distance(start, end):\n",
    "    return min((end - start) % SIZE, (start - end) % SIZE)\n",
    "\n",
    "\n",
    "@dataclass\n",
    "class Player:\n",
    "    position: int = 1\n",
    "    absolute_position: int = 1\n",
    "    last_submission: int = 0\n",
    "    papers: list[Planet] = field(default_factory=lambda: [None] * SIZE)\n",
    "    paper_state: list[int] = field(default_factory=lambda: [None] * SIZE)\n",
    "\n",
    "    def skip_papers(self):\n",
    "        self.last_submission += 3\n",
    "        for i in range(len(self.paper_state)):\n",
    "            if self.paper_state[i] is None:\n",
    "                self.paper_state[i] += 1\n",
    "\n",
    "    def submit_papers(self, *items):\n",
    "        for i, x in items:\n",
    "            self.papers[i-1] = x\n",
    "            self.paper_state[i-1] = 0\n",
    "        self.skip_papers()\n",
    "\n",
    "    def confirm_hypotesys(self, i):\n",
    "        self.papers[i-1] = None\n",
    "        self.paper_state[i-1] = None\n",
    "\n",
    "    def move_forward(self, steps: int):\n",
    "        self.position = (self.position - 1 + steps) % SIZE + 1\n",
    "        self.absolute_position += steps\n",
    "\n",
    "    def survey(self, planet_type: Planet, start, end, result):\n",
    "        if difference(end, self.position) >= SIZE // 2:\n",
    "            raise ValueError(\"survey must be within visible sky\")\n",
    "        n_search_segments = difference(start, end)\n",
    "        if 1 <= n_search_segments <= 3:\n",
    "            self.move_forward(4)\n",
    "        elif 4 <= n_search_segments <= 6:\n",
    "            self.move_forward(3)\n",
    "        else:\n",
    "            raise ValueError(\"survey must be in the visible sky segments\")\n",
    "\n",
    "    def target(self, sector_id: int, result: Planet):\n",
    "        self.move_forward(4)\n",
    "\n",
    "    def research(self):\n",
    "        self.move_forward(1)\n",
    "\n",
    "    def locate_x(self):\n",
    "        self.move_forward(5)\n"
   ]
  },
  {
   "cell_type": "code",
   "execution_count": null,
   "id": "7c20d1a5",
   "metadata": {},
   "outputs": [],
   "source": []
  },
  {
   "cell_type": "code",
   "execution_count": null,
   "id": "c4461961-1791-47aa-9982-5ea9d81c8efa",
   "metadata": {},
   "outputs": [],
   "source": []
  },
  {
   "cell_type": "code",
   "execution_count": null,
   "id": "448b9c64",
   "metadata": {},
   "outputs": [],
   "source": []
  }
 ],
 "metadata": {
  "kernelspec": {
   "display_name": "Python 3.10.4 64-bit",
   "language": "python",
   "name": "python3"
  },
  "language_info": {
   "codemirror_mode": {
    "name": "ipython",
    "version": 3
   },
   "file_extension": ".py",
   "mimetype": "text/x-python",
   "name": "python",
   "nbconvert_exporter": "python",
   "pygments_lexer": "ipython3",
   "version": "3.10.4"
  },
  "vscode": {
   "interpreter": {
    "hash": "3ad933181bd8a04b432d3370b9dc3b0662ad032c4dfaa4e4f1596c548f763858"
   }
  }
 },
 "nbformat": 4,
 "nbformat_minor": 5
}
