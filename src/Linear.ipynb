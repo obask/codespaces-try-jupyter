{
 "cells": [
  {
   "cell_type": "code",
   "execution_count": 1,
   "id": "14755963-d8cc-4d69-b70b-d67e42d014d4",
   "metadata": {},
   "outputs": [],
   "source": [
    "from z3 import *"
   ]
  },
  {
   "cell_type": "code",
   "execution_count": 7,
   "id": "5fa64f16",
   "metadata": {},
   "outputs": [],
   "source": [
    "a, b, c = BitVecs('a b c', 8)\n",
    "\n",
    "s = Solver()\n",
    "\n",
    "POS = 2\n",
    "\n",
    "tmp = BitVecVal(13, 32)\n",
    "\n",
    "s.add(a + BitVecVal(13, 8) == c)\n",
    "s.add(c > 0)"
   ]
  },
  {
   "cell_type": "code",
   "execution_count": 12,
   "id": "7c20d1a5",
   "metadata": {},
   "outputs": [
    {
     "name": "stdout",
     "output_type": "stream",
     "text": [
      "sat\n"
     ]
    },
    {
     "data": {
      "text/plain": [
       "3"
      ]
     },
     "execution_count": 12,
     "metadata": {},
     "output_type": "execute_result"
    }
   ],
   "source": [
    "def fn():\n",
    "    global POS\n",
    "    POS += 1\n",
    "\n",
    "print(s.check())\n",
    "s.model()\n",
    "POS"
   ]
  },
  {
   "cell_type": "code",
   "execution_count": 14,
   "id": "c4461961-1791-47aa-9982-5ea9d81c8efa",
   "metadata": {},
   "outputs": [
    {
     "data": {
      "text/html": [
       "<b>sat</b>"
      ],
      "text/plain": [
       "sat"
      ]
     },
     "execution_count": 14,
     "metadata": {},
     "output_type": "execute_result"
    }
   ],
   "source": [
    "s.check()"
   ]
  }
 ],
 "metadata": {
  "kernelspec": {
   "display_name": "Python 3.10.4 64-bit",
   "language": "python",
   "name": "python3"
  },
  "language_info": {
   "codemirror_mode": {
    "name": "ipython",
    "version": 3
   },
   "file_extension": ".py",
   "mimetype": "text/x-python",
   "name": "python",
   "nbconvert_exporter": "python",
   "pygments_lexer": "ipython3",
   "version": "3.10.4"
  },
  "vscode": {
   "interpreter": {
    "hash": "3ad933181bd8a04b432d3370b9dc3b0662ad032c4dfaa4e4f1596c548f763858"
   }
  }
 },
 "nbformat": 4,
 "nbformat_minor": 5
}
